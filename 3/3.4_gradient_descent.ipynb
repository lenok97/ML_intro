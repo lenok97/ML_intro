{
 "cells": [
  {
   "cell_type": "code",
   "execution_count": 1,
   "metadata": {},
   "outputs": [],
   "source": [
    "import numpy as np\n",
    "import pandas as pd\n",
    "from sklearn.metrics import mean_squared_error as rms\n",
    "from sklearn.metrics import roc_auc_score\n",
    "from math import exp"
   ]
  },
  {
   "cell_type": "code",
   "execution_count": 2,
   "metadata": {},
   "outputs": [],
   "source": [
    "df = pd.read_csv('data-logistic.csv', header=None)\n",
    "y = df[0]\n",
    "X = df.loc[:, 1:]"
   ]
  },
  {
   "cell_type": "markdown",
   "metadata": {},
   "source": [
    "Реализуйте градиентный спуск для обычной и L2-регуляризованной (с коэффициентом регуляризации 10) логистической регрессии. Используйте длину шага k=0.1. В качестве начального приближения используйте вектор (0, 0).\n",
    "\n",
    "\n",
    "Запустите градиентный спуск и доведите до сходимости (евклидово расстояние между векторами весов на соседних итерациях должно быть не больше 1e-5). Рекомендуется ограничить сверху число итераций десятью тысячами."
   ]
  },
  {
   "cell_type": "code",
   "execution_count": 3,
   "metadata": {},
   "outputs": [],
   "source": [
    "K = 0.1\n",
    "ERROR = 1e-5\n",
    "\n",
    "def sigma_y(X, y, i, w1, w2):\n",
    "    return 1. / (1. + exp(-y[i] * (w1*X[1][i] + w2*X[2][i])))\n",
    "\n",
    "def delta_for_w(w_index, w1, w2, C, X, y):\n",
    "    addition = sum((\n",
    "        y[i] * X[w_index][i] * (1. - sigma_y(X, y, i, w1, w2)) for i in np.arange(0, len(y))\n",
    "    ))\n",
    "    addition *= K / len(y)\n",
    "    addition -= K * C * (w1 if w_index == 1 else w2)\n",
    "    \n",
    "    return addition"
   ]
  },
  {
   "cell_type": "code",
   "execution_count": 4,
   "metadata": {},
   "outputs": [],
   "source": [
    "def gradient_regressor(X, y, C, iterations_remaining=10000):\n",
    "    changed_w1, changed_w2 = 0., 0.\n",
    "    while iterations_remaining:\n",
    "        iterations_remaining -= 1\n",
    "        w1, w2 = changed_w1, changed_w2\n",
    "        changed_w1 = w1 + delta_for_w(1, w1, w2, C, X, y)\n",
    "        changed_w2 = w2 + delta_for_w(2, w1, w2, C, X, y)\n",
    "        if np.sqrt(rms([w1, w2], [changed_w1, changed_w2])) <= ERROR:\n",
    "            break\n",
    "    return changed_w1, changed_w2\n",
    "\n",
    "def sigma(xi, w1, w2):\n",
    "    return 1. / (1 + np.exp(-w1 * xi[1] - w2 * xi[2]))"
   ]
  },
  {
   "cell_type": "code",
   "execution_count": 8,
   "metadata": {},
   "outputs": [],
   "source": [
    "w1, w2 = gradient_regressor(X, y, 0.)\n",
    "l2w1, l2w2 = gradient_regressor(X, y, 10.)\n",
    "\n",
    "scores = X.apply(lambda xi: sigma(xi, w1, w2), axis=1)\n",
    "l2scores = X.apply(lambda xi: sigma(xi, l2w1, l2w2), axis=1)"
   ]
  },
  {
   "cell_type": "markdown",
   "metadata": {},
   "source": [
    "Какое значение принимает AUC-ROC на обучении без регуляризации и при ее использовании? Эти величины будут ответом на задание. В качестве ответа приведите два числа через пробел. \n",
    "\n",
    "Обратите внимание, что на вход функции roc_auc_score нужно подавать оценки вероятностей, подсчитанные обученным алгоритмом. Для этого воспользуйтесь сигмоидной функцией: a(x) = 1 / (1 + exp(-w1 x1 - w2 x2))"
   ]
  },
  {
   "cell_type": "code",
   "execution_count": 7,
   "metadata": {},
   "outputs": [
    {
     "name": "stdout",
     "output_type": "stream",
     "text": [
      "0.927\n",
      "0.936\n"
     ]
    }
   ],
   "source": [
    "auc_score = round(roc_auc_score(y, scores), 3)\n",
    "l2_auc_score = round(roc_auc_score(y, l2scores), 3)\n",
    "\n",
    "print(auc_score)\n",
    "print(l2_auc_score)\n",
    "\n",
    "f = open('submission.txt', 'w')\n",
    "f.write(str(auc_score) + ' ' + str(l2_auc_score))\n",
    "f.close()"
   ]
  },
  {
   "cell_type": "code",
   "execution_count": null,
   "metadata": {},
   "outputs": [],
   "source": []
  }
 ],
 "metadata": {
  "kernelspec": {
   "display_name": "Python 3",
   "language": "python",
   "name": "python3"
  },
  "language_info": {
   "codemirror_mode": {
    "name": "ipython",
    "version": 3
   },
   "file_extension": ".py",
   "mimetype": "text/x-python",
   "name": "python",
   "nbconvert_exporter": "python",
   "pygments_lexer": "ipython3",
   "version": "3.6.5"
  }
 },
 "nbformat": 4,
 "nbformat_minor": 2
}
