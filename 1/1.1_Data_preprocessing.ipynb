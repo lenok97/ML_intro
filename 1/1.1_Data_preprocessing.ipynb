{
 "cells": [
  {
   "cell_type": "code",
   "execution_count": 1,
   "metadata": {},
   "outputs": [],
   "source": [
    "import numpy as np"
   ]
  },
  {
   "cell_type": "code",
   "execution_count": 2,
   "metadata": {},
   "outputs": [
    {
     "name": "stdout",
     "output_type": "stream",
     "text": [
      "[[ -8.36487835   7.18986519  24.93288    ...  -5.56034589   5.81888526\n",
      "    8.50548767]\n",
      " [ -2.3433979   14.30358289 -12.29086292 ... -23.76783703  -4.86318567\n",
      "    1.471135  ]\n",
      " [ 12.76157203   6.9889099  -18.3220964  ...  10.26718994   1.45961661\n",
      "  -24.13426169]\n",
      " ...\n",
      " [ -5.67224513  -1.43837927 -10.55079877 ...  -4.24958296  -4.77586913\n",
      "  -13.16129985]\n",
      " [ 15.12049886 -16.30395573   9.77855628 ...  -0.17022898   5.51458267\n",
      "   -5.59204556]\n",
      " [  4.3539907    7.82350717   6.3710704  ...  -4.45217665   3.27107063\n",
      "    1.34704383]]\n"
     ]
    }
   ],
   "source": [
    "X = np.random.normal(loc=1, scale=10, size=(1000, 50))\n",
    "print(X)"
   ]
  },
  {
   "cell_type": "code",
   "execution_count": 4,
   "metadata": {},
   "outputs": [
    {
     "name": "stdout",
     "output_type": "stream",
     "text": [
      "[[-0.94709592  0.55998352  2.37453256 ... -0.649064    0.48169963\n",
      "   0.80994968]\n",
      " [-0.34391238  1.30104962 -1.31461193 ... -2.42967341 -0.61701702\n",
      "   0.10761782]\n",
      " [ 1.16918217  0.53904915 -1.91235116 ...  0.89879666  0.03332206\n",
      "  -2.44890538]\n",
      " ...\n",
      " [-0.67736955 -0.33885725 -1.14215887 ... -0.52087738 -0.60803598\n",
      "  -1.35333042]\n",
      " [ 1.40548051 -1.88746731  0.87262852 ... -0.1219352   0.45040024\n",
      "  -0.5975923 ]\n",
      " [ 0.32697821  0.62599268  0.53492181 ... -0.54069011  0.21964124\n",
      "   0.09522817]]\n"
     ]
    }
   ],
   "source": [
    "m = np.mean(X, axis=0)\n",
    "std = np.std(X, axis=0)\n",
    "X_norm = ((X - m)  / std)\n",
    "print(X_norm)"
   ]
  },
  {
   "cell_type": "code",
   "execution_count": 5,
   "metadata": {},
   "outputs": [],
   "source": [
    "Z = np.array([[4, 5, 0], \n",
    "             [1, 9, 3],              \n",
    "             [5, 1, 1],\n",
    "             [3, 3, 3], \n",
    "             [9, 9, 9], \n",
    "             [4, 7, 1]])"
   ]
  },
  {
   "cell_type": "code",
   "execution_count": 7,
   "metadata": {},
   "outputs": [
    {
     "name": "stdout",
     "output_type": "stream",
     "text": [
      "(array([1, 4, 5], dtype=int64),)\n"
     ]
    }
   ],
   "source": [
    "r = np.sum(Z, axis=1)\n",
    "print (np.nonzero(r > 10))"
   ]
  },
  {
   "cell_type": "code",
   "execution_count": 8,
   "metadata": {},
   "outputs": [
    {
     "name": "stdout",
     "output_type": "stream",
     "text": [
      "[[1. 0. 0.]\n",
      " [0. 1. 0.]\n",
      " [0. 0. 1.]]\n",
      "[[1. 0. 0.]\n",
      " [0. 1. 0.]\n",
      " [0. 0. 1.]]\n"
     ]
    }
   ],
   "source": [
    "A = np.eye(3)\n",
    "B = np.eye(3)\n",
    "print (A)\n",
    "print (B)"
   ]
  },
  {
   "cell_type": "code",
   "execution_count": 9,
   "metadata": {},
   "outputs": [
    {
     "name": "stdout",
     "output_type": "stream",
     "text": [
      "[[1. 0. 0.]\n",
      " [0. 1. 0.]\n",
      " [0. 0. 1.]\n",
      " [1. 0. 0.]\n",
      " [0. 1. 0.]\n",
      " [0. 0. 1.]]\n"
     ]
    }
   ],
   "source": [
    "A_vstack_B = np.vstack((A, B))\n",
    "print(A_vstack_B)"
   ]
  },
  {
   "cell_type": "code",
   "execution_count": null,
   "metadata": {},
   "outputs": [],
   "source": []
  }
 ],
 "metadata": {
  "kernelspec": {
   "display_name": "Python 3",
   "language": "python",
   "name": "python3"
  },
  "language_info": {
   "codemirror_mode": {
    "name": "ipython",
    "version": 3
   },
   "file_extension": ".py",
   "mimetype": "text/x-python",
   "name": "python",
   "nbconvert_exporter": "python",
   "pygments_lexer": "ipython3",
   "version": "3.6.5"
  }
 },
 "nbformat": 4,
 "nbformat_minor": 2
}
